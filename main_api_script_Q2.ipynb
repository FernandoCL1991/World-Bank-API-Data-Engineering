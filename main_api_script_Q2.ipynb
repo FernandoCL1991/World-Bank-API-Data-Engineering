{
 "cells": [
  {
   "cell_type": "markdown",
   "metadata": {},
   "source": [
    "# Ventagium\n",
    "\n",
    "\n",
    "\n",
    "## Task: Desarrollar un pipeline en Python que deberá:\n",
    "\n",
    "1. Recibir un objeto DataFrame como parámetro.\n",
    "2. Extraer el tipo de cambio a pesos mexicanos para los países presentes en el\n",
    "DataFrame.\n",
    "3. Calcular y devolver el resultado de la siguiente pregunta: si cada persona en esos\n",
    "países te diera un centavo de su moneda, ¿cuántos pesos mexicanos acumularías?"
   ]
  },
  {
   "cell_type": "markdown",
   "metadata": {},
   "source": []
  },
  {
   "cell_type": "markdown",
   "metadata": {},
   "source": [
    "## Using Fixer API\n",
    "\n",
    "- https://fixer.io/documentation\n",
    "- API Key: 6ca0dc9384881ea39fba997ea2d39920"
   ]
  },
  {
   "cell_type": "code",
   "execution_count": null,
   "metadata": {},
   "outputs": [],
   "source": []
  }
 ],
 "metadata": {
  "kernelspec": {
   "display_name": "newenv",
   "language": "python",
   "name": "python3"
  },
  "language_info": {
   "codemirror_mode": {
    "name": "ipython",
    "version": 3
   },
   "file_extension": ".py",
   "mimetype": "text/x-python",
   "name": "python",
   "nbconvert_exporter": "python",
   "pygments_lexer": "ipython3",
   "version": "3.9.20"
  }
 },
 "nbformat": 4,
 "nbformat_minor": 2
}
