{
 "cells": [
  {
   "cell_type": "markdown",
   "metadata": {},
   "source": [
    "# Ventagium\n",
    "\n",
    "\n",
    "\n",
    "## Task: Desarrollar un pipeline en Python que deberá:\n",
    "\n",
    "1. Recibir un objeto DataFrame como parámetro.\n",
    "2. Extraer el tipo de cambio a pesos mexicanos para los países presentes en el\n",
    "DataFrame.\n",
    "3. Calcular y devolver el resultado de la siguiente pregunta: si cada persona en esos\n",
    "países te diera un centavo de su moneda, ¿cuántos pesos mexicanos acumularías?"
   ]
  },
  {
   "cell_type": "markdown",
   "metadata": {},
   "source": []
  },
  {
   "cell_type": "markdown",
   "metadata": {},
   "source": [
    "## Using Fixer API\n",
    "\n",
    "- https://fixer.io/documentation"
   ]
  },
  {
   "cell_type": "code",
   "execution_count": null,
   "metadata": {
    "vscode": {
     "languageId": "plaintext"
    }
   },
   "outputs": [],
   "source": []
  },
  {
   "cell_type": "code",
   "execution_count": null,
   "metadata": {
    "vscode": {
     "languageId": "plaintext"
    }
   },
   "outputs": [],
   "source": []
  }
 ],
 "metadata": {
  "language_info": {
   "name": "python"
  }
 },
 "nbformat": 4,
 "nbformat_minor": 2
}
