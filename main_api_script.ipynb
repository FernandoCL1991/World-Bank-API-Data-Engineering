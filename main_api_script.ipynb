{
 "cells": [
  {
   "cell_type": "markdown",
   "metadata": {},
   "source": [
    "# Ventagium\n",
    "\n",
    "\n",
    "\n",
    "## Task: Desarrollar un pipeline en Python que deberá:\n",
    "\n",
    "1. Extraer los datos correspondientes al total de población de cada país usando la API JSON\n",
    "de Indicadores del Banco Mundial.\n",
    "\n",
    "- a. Debe recibir un parámetro para limitar la respuesta a la cantidad de países que se\n",
    "soliciten. De tal forma que se puedan solicitar, por ejemplo, los 10, 20, 30 países con la\n",
    "mayor población.\n",
    "\n",
    "- b. Almacenar los datos extraídos en un objeto DataFrame de la librería Pandas."
   ]
  },
  {
   "cell_type": "markdown",
   "metadata": {},
   "source": []
  },
  {
   "cell_type": "markdown",
   "metadata": {},
   "source": [
    "# Structuring an API Call:\n",
    "#### https://datahelpdesk.worldbank.org/knowledgebase/articles/898581\n",
    "\n",
    "Responses\n",
    "Retrieving indicator data about countries is one common use of the API.\n",
    "\n",
    "For example, the following is a call for 2006 data on the GDP of Brazil: https://api.worldbank.org/v2/country/br/indicator/NY.GDP.MKTP.CD?date=2006\n",
    "\n",
    "Response Format\n",
    "By default, all requests will respond with valid XML. To receive the response in JSON format, provide format=json in any request.\n",
    "\n",
    "\n",
    "## Using 'all' for all countries' data:\n",
    "\n",
    "How to use the V2 Indicators API\n",
    "Version 2 (V2) of the Indicators API has been released and replaces V1 of the API. V1 API calls will no longer be supported. To use the V2 API, you must place v2 in the call. For example: https://api.worldbank.org/v2/country/all/indicator/SP.POP.TOTL.\n"
   ]
  },
  {
   "cell_type": "code",
   "execution_count": 2,
   "metadata": {},
   "outputs": [],
   "source": [
    "#pop_url = \"https://api.worldbank.org/v2//country/all/indicator/SP.POP.TOTL?date=2020:2025&format=json\"\n",
    "#response = requests.get(pop_url)\n",
    "#data = response.json()"
   ]
  },
  {
   "cell_type": "markdown",
   "metadata": {},
   "source": [
    "### Country ISO Codes: https://wits.worldbank.org/wits/wits/WITSHELP-es/content/codes/country_codes.htm\n",
    "\n",
    "They only have 3 upper case letters --> 'countryiso3code'"
   ]
  },
  {
   "cell_type": "markdown",
   "metadata": {},
   "source": []
  },
  {
   "cell_type": "code",
   "execution_count": 3,
   "metadata": {},
   "outputs": [],
   "source": [
    "# Libraries\n",
    "\n",
    "import wbgapi as wb\n",
    "import pandas as pd\n",
    "import pycountry\n",
    "import plotly\n",
    "import plotly.express as px\n",
    "\n",
    "# Function\n",
    "def top_countries_by_population(num_countries=10):\n",
    "\n",
    "    # Fetch population data for all available countries for all years\n",
    "    # Fetching data from API (wb): \n",
    "        # total, Population: 'SP.POP.TOTL'\n",
    "        # economy='all' for all countries' data\n",
    "        # time='all' for all years\n",
    "        # labels=True to include country names\n",
    "    df = wb.data.DataFrame('SP.POP.TOTL', economy='all', time='all', labels=True)\n",
    "\n",
    "    # Reset index to make 'Country Code' a column\n",
    "    df = df.reset_index()\n",
    "    # Rename 'economy' column to 'Country Code'\n",
    "    df.rename(columns={'economy': 'Country Code'}, inplace=True)\n",
    "    # Removing rows that are not actual countries with pycountry's alpha_3 function\n",
    "    valid_country_codes = [country.alpha_3 for country in pycountry.countries]\n",
    "    df = df[df['Country Code'].isin(valid_country_codes)]\n",
    "    # Find the most recent year in the dataset dynamically\n",
    "    latest_year = str(df.columns[df.columns.str.startswith('YR')].max())\n",
    "    # Keep only relevant columns: 'Country Code', 'Country' and the most recent year\n",
    "    df = df[['Country Code', 'Country', latest_year]].rename(columns={latest_year: 'Population'})\n",
    "    # Convert population to integer, fill NaNs with 0, and sort by population\n",
    "    df['Population'] = df['Population'].fillna(0).astype(int)\n",
    "    df = df.sort_values(by='Population', ascending=False)\n",
    "    # Select the top N countries\n",
    "    df = df.head(num_countries)\n",
    "    # Reset index to start at 1 instead of 0\n",
    "    df.index = range(1, len(df) + 1)\n",
    "    \n",
    "    # Plot\n",
    "\n",
    "    # Interactive bar chart using plotly\n",
    "    fig = px.bar(df, \n",
    "                x='Population', \n",
    "                y='Country', \n",
    "                orientation='h', \n",
    "                title=f'Top {num_countries} Countries by Population',\n",
    "                labels={'Population': 'Population', 'Country': 'Country'})\n",
    "\n",
    "    # When hovering, create a text box per country with country's information\n",
    "    fig.update_traces(\n",
    "        customdata=df[['Country Code', 'Population']].values,\n",
    "        hovertemplate=\n",
    "        '<b>Country</b>: %{y}<br>' +\n",
    "        '<b>Country Code</b>: %{customdata[0]}<br>' +  # Country Code from customdata\n",
    "        '<b>Population</b>: %{customdata[1]:,}<br>'  # Population from customdata with comma formatting\n",
    "    )\n",
    "\n",
    "    # Plot layout with axis titles and grid\n",
    "    fig.update_layout(\n",
    "        xaxis_title=\"Population\",\n",
    "        yaxis_title=\"Country\",\n",
    "        plot_bgcolor='white',\n",
    "        xaxis=dict(showgrid=True, gridwidth=1, gridcolor='lightgray'),\n",
    "        yaxis=dict(\n",
    "            showgrid=False,\n",
    "            tickangle=0  # Country names are horizontal\n",
    "        ),\n",
    "        # Increase canvas size\n",
    "        width=1000,  # Increase width of the figure\n",
    "        height=1000,  # Increase height of the figure\n",
    "    )\n",
    "\n",
    "    # Show the plot\n",
    "    fig.show()\n",
    "\n",
    "    return df\n"
   ]
  },
  {
   "cell_type": "code",
   "execution_count": 6,
   "metadata": {},
   "outputs": [
    {
     "data": {
      "application/vnd.plotly.v1+json": {
       "config": {
        "plotlyServerURL": "https://plot.ly"
       },
       "data": [
        {
         "customdata": [
          [
           "IND",
           1438069596
          ],
          [
           "CHN",
           1410710000
          ],
          [
           "USA",
           334914895
          ],
          [
           "IDN",
           281190067
          ],
          [
           "PAK",
           247504495
          ],
          [
           "NGA",
           227882945
          ],
          [
           "BRA",
           211140729
          ],
          [
           "BGD",
           171466990
          ],
          [
           "RUS",
           143826130
          ],
          [
           "MEX",
           129739759
          ],
          [
           "ETH",
           128691692
          ],
          [
           "JPN",
           124516650
          ],
          [
           "PHL",
           114891199
          ],
          [
           "EGY",
           114535772
          ],
          [
           "COD",
           105789731
          ],
          [
           "VNM",
           100352192
          ],
          [
           "IRN",
           90608707
          ],
          [
           "TUR",
           85325965
          ],
          [
           "DEU",
           83280000
          ],
          [
           "THA",
           71702435
          ],
          [
           "GBR",
           68350000
          ],
          [
           "FRA",
           68287487
          ],
          [
           "TZA",
           66617606
          ],
          [
           "ZAF",
           63212384
          ],
          [
           "ITA",
           58993475
          ],
          [
           "KEN",
           55339003
          ],
          [
           "MMR",
           54133798
          ],
          [
           "COL",
           52321152
          ],
          [
           "KOR",
           51712619
          ],
          [
           "SDN",
           50042791
          ],
          [
           "UGA",
           48656601
          ],
          [
           "ESP",
           48347910
          ],
          [
           "DZA",
           46164219
          ],
          [
           "ARG",
           45538401
          ],
          [
           "IRQ",
           45074049
          ],
          [
           "AFG",
           41454761
          ],
          [
           "CAN",
           40097761
          ],
          [
           "YEM",
           39390799
          ],
          [
           "UKR",
           37732836
          ],
          [
           "MAR",
           37712505
          ],
          [
           "AGO",
           36749906
          ],
          [
           "POL",
           36687353
          ],
          [
           "UZB",
           35652307
          ],
          [
           "MYS",
           35126298
          ],
          [
           "PER",
           33845617
          ],
          [
           "GHA",
           33787914
          ],
          [
           "MOZ",
           33635160
          ],
          [
           "SAU",
           33264292
          ],
          [
           "MDG",
           31195932
          ],
          [
           "CIV",
           31165654
          ],
          [
           "NPL",
           29694614
          ],
          [
           "CMR",
           28372687
          ],
          [
           "VEN",
           28300854
          ],
          [
           "AUS",
           26658948
          ],
          [
           "PRK",
           26418204
          ],
          [
           "NER",
           26159867
          ],
          [
           "MLI",
           23769127
          ],
          [
           "SYR",
           23594623
          ],
          [
           "BFA",
           23025776
          ],
          [
           "LKA",
           22037000
          ],
          [
           "MWI",
           21104482
          ],
          [
           "ZMB",
           20723965
          ],
          [
           "KAZ",
           20330104
          ],
          [
           "CHL",
           19658835
          ],
          [
           "TCD",
           19319064
          ],
          [
           "ROU",
           19059479
          ],
          [
           "SOM",
           18358615
          ],
          [
           "GTM",
           18124838
          ],
          [
           "SEN",
           18077573
          ],
          [
           "ECU",
           17980083
          ],
          [
           "NLD",
           17877117
          ],
          [
           "KHM",
           17423880
          ],
          [
           "ZWE",
           16340822
          ],
          [
           "GIN",
           14405468
          ],
          [
           "BEN",
           14111034
          ],
          [
           "RWA",
           13954471
          ],
          [
           "BDI",
           13689450
          ],
          [
           "BOL",
           12244159
          ],
          [
           "TUN",
           12200431
          ],
          [
           "BEL",
           11787423
          ],
          [
           "HTI",
           11637398
          ],
          [
           "SSD",
           11483374
          ],
          [
           "JOR",
           11439213
          ],
          [
           "DOM",
           11331265
          ],
          [
           "CUB",
           11019931
          ],
          [
           "CZE",
           10864042
          ],
          [
           "HND",
           10644851
          ],
          [
           "PRT",
           10578174
          ],
          [
           "SWE",
           10536632
          ],
          [
           "ARE",
           10483751
          ],
          [
           "GRC",
           10405588
          ],
          [
           "TJK",
           10389799
          ],
          [
           "PNG",
           10389635
          ],
          [
           "AZE",
           10153958
          ],
          [
           "ISR",
           9756600
          ],
          [
           "HUN",
           9592186
          ],
          [
           "TGO",
           9304337
          ],
          [
           "BLR",
           9178298
          ],
          [
           "AUT",
           9131761
          ],
          [
           "CHE",
           8888093
          ]
         ],
         "hovertemplate": "<b>Country</b>: %{y}<br><b>Country Code</b>: %{customdata[0]}<br><b>Population</b>: %{customdata[1]:,}<br>",
         "legendgroup": "",
         "marker": {
          "color": "#636efa",
          "pattern": {
           "shape": ""
          }
         },
         "name": "",
         "orientation": "h",
         "showlegend": false,
         "textposition": "auto",
         "type": "bar",
         "x": {
          "bdata": "XDO3VfC5FVRPZfYTs57CEG+ewA7BN5UNecCVDO5gOArSnJII76u7B+ytqwcq+WsHvxnZBlyt0wYjOU4GwED7BUOUZgWN+BUFgMD2BKMXRgQw8BIE//sRBAaB+ANgi8QDQyuEA/tnTAMmBDoDgFseA2sSFQOnl/sC2XDmAga74QL7aMACYdy2AoHGrwKpjHgC4ddjAk8OWQLkwT8CeXI/AlLCMAL5zS8C0wIgAhr8FwJxcQQCCpADAlg7AQKkkvsBHAPcAdaM2wGWGsUBz+6wATbWrwGEyJYBHByTAfsqjwEnsGoBfwZoAXBYXwEIQlABYgdCAf04PAF4NjYBU/grARjJJgEX0yIBVyEYASaQFAGF1xMBs1oSAX3IEAEI3gkBVlf5AFzP2wA6UdcAp+3UAGri0AC/1LoA7ym6AJ/cswCWkrEA7jivAG2MrgDB5qwAmyaoAKrFpQBzbaIA/mihALjGoAAn+J8A1MaeACeJngCDiJ4A5u+aALjflAB6XZIAEfmNALoMjADxVosAHZ+HAA==",
          "dtype": "i4"
         },
         "xaxis": "x",
         "y": [
          "India",
          "China",
          "United States",
          "Indonesia",
          "Pakistan",
          "Nigeria",
          "Brazil",
          "Bangladesh",
          "Russian Federation",
          "Mexico",
          "Ethiopia",
          "Japan",
          "Philippines",
          "Egypt, Arab Rep.",
          "Congo, Dem. Rep.",
          "Viet Nam",
          "Iran, Islamic Rep.",
          "Turkiye",
          "Germany",
          "Thailand",
          "United Kingdom",
          "France",
          "Tanzania",
          "South Africa",
          "Italy",
          "Kenya",
          "Myanmar",
          "Colombia",
          "Korea, Rep.",
          "Sudan",
          "Uganda",
          "Spain",
          "Algeria",
          "Argentina",
          "Iraq",
          "Afghanistan",
          "Canada",
          "Yemen, Rep.",
          "Ukraine",
          "Morocco",
          "Angola",
          "Poland",
          "Uzbekistan",
          "Malaysia",
          "Peru",
          "Ghana",
          "Mozambique",
          "Saudi Arabia",
          "Madagascar",
          "Cote d'Ivoire",
          "Nepal",
          "Cameroon",
          "Venezuela, RB",
          "Australia",
          "Korea, Dem. People's Rep.",
          "Niger",
          "Mali",
          "Syrian Arab Republic",
          "Burkina Faso",
          "Sri Lanka",
          "Malawi",
          "Zambia",
          "Kazakhstan",
          "Chile",
          "Chad",
          "Romania",
          "Somalia",
          "Guatemala",
          "Senegal",
          "Ecuador",
          "Netherlands",
          "Cambodia",
          "Zimbabwe",
          "Guinea",
          "Benin",
          "Rwanda",
          "Burundi",
          "Bolivia",
          "Tunisia",
          "Belgium",
          "Haiti",
          "South Sudan",
          "Jordan",
          "Dominican Republic",
          "Cuba",
          "Czechia",
          "Honduras",
          "Portugal",
          "Sweden",
          "United Arab Emirates",
          "Greece",
          "Tajikistan",
          "Papua New Guinea",
          "Azerbaijan",
          "Israel",
          "Hungary",
          "Togo",
          "Belarus",
          "Austria",
          "Switzerland"
         ],
         "yaxis": "y"
        }
       ],
       "layout": {
        "barmode": "relative",
        "height": 1000,
        "legend": {
         "tracegroupgap": 0
        },
        "plot_bgcolor": "white",
        "template": {
         "data": {
          "bar": [
           {
            "error_x": {
             "color": "#2a3f5f"
            },
            "error_y": {
             "color": "#2a3f5f"
            },
            "marker": {
             "line": {
              "color": "#E5ECF6",
              "width": 0.5
             },
             "pattern": {
              "fillmode": "overlay",
              "size": 10,
              "solidity": 0.2
             }
            },
            "type": "bar"
           }
          ],
          "barpolar": [
           {
            "marker": {
             "line": {
              "color": "#E5ECF6",
              "width": 0.5
             },
             "pattern": {
              "fillmode": "overlay",
              "size": 10,
              "solidity": 0.2
             }
            },
            "type": "barpolar"
           }
          ],
          "carpet": [
           {
            "aaxis": {
             "endlinecolor": "#2a3f5f",
             "gridcolor": "white",
             "linecolor": "white",
             "minorgridcolor": "white",
             "startlinecolor": "#2a3f5f"
            },
            "baxis": {
             "endlinecolor": "#2a3f5f",
             "gridcolor": "white",
             "linecolor": "white",
             "minorgridcolor": "white",
             "startlinecolor": "#2a3f5f"
            },
            "type": "carpet"
           }
          ],
          "choropleth": [
           {
            "colorbar": {
             "outlinewidth": 0,
             "ticks": ""
            },
            "type": "choropleth"
           }
          ],
          "contour": [
           {
            "colorbar": {
             "outlinewidth": 0,
             "ticks": ""
            },
            "colorscale": [
             [
              0,
              "#0d0887"
             ],
             [
              0.1111111111111111,
              "#46039f"
             ],
             [
              0.2222222222222222,
              "#7201a8"
             ],
             [
              0.3333333333333333,
              "#9c179e"
             ],
             [
              0.4444444444444444,
              "#bd3786"
             ],
             [
              0.5555555555555556,
              "#d8576b"
             ],
             [
              0.6666666666666666,
              "#ed7953"
             ],
             [
              0.7777777777777778,
              "#fb9f3a"
             ],
             [
              0.8888888888888888,
              "#fdca26"
             ],
             [
              1,
              "#f0f921"
             ]
            ],
            "type": "contour"
           }
          ],
          "contourcarpet": [
           {
            "colorbar": {
             "outlinewidth": 0,
             "ticks": ""
            },
            "type": "contourcarpet"
           }
          ],
          "heatmap": [
           {
            "colorbar": {
             "outlinewidth": 0,
             "ticks": ""
            },
            "colorscale": [
             [
              0,
              "#0d0887"
             ],
             [
              0.1111111111111111,
              "#46039f"
             ],
             [
              0.2222222222222222,
              "#7201a8"
             ],
             [
              0.3333333333333333,
              "#9c179e"
             ],
             [
              0.4444444444444444,
              "#bd3786"
             ],
             [
              0.5555555555555556,
              "#d8576b"
             ],
             [
              0.6666666666666666,
              "#ed7953"
             ],
             [
              0.7777777777777778,
              "#fb9f3a"
             ],
             [
              0.8888888888888888,
              "#fdca26"
             ],
             [
              1,
              "#f0f921"
             ]
            ],
            "type": "heatmap"
           }
          ],
          "histogram": [
           {
            "marker": {
             "pattern": {
              "fillmode": "overlay",
              "size": 10,
              "solidity": 0.2
             }
            },
            "type": "histogram"
           }
          ],
          "histogram2d": [
           {
            "colorbar": {
             "outlinewidth": 0,
             "ticks": ""
            },
            "colorscale": [
             [
              0,
              "#0d0887"
             ],
             [
              0.1111111111111111,
              "#46039f"
             ],
             [
              0.2222222222222222,
              "#7201a8"
             ],
             [
              0.3333333333333333,
              "#9c179e"
             ],
             [
              0.4444444444444444,
              "#bd3786"
             ],
             [
              0.5555555555555556,
              "#d8576b"
             ],
             [
              0.6666666666666666,
              "#ed7953"
             ],
             [
              0.7777777777777778,
              "#fb9f3a"
             ],
             [
              0.8888888888888888,
              "#fdca26"
             ],
             [
              1,
              "#f0f921"
             ]
            ],
            "type": "histogram2d"
           }
          ],
          "histogram2dcontour": [
           {
            "colorbar": {
             "outlinewidth": 0,
             "ticks": ""
            },
            "colorscale": [
             [
              0,
              "#0d0887"
             ],
             [
              0.1111111111111111,
              "#46039f"
             ],
             [
              0.2222222222222222,
              "#7201a8"
             ],
             [
              0.3333333333333333,
              "#9c179e"
             ],
             [
              0.4444444444444444,
              "#bd3786"
             ],
             [
              0.5555555555555556,
              "#d8576b"
             ],
             [
              0.6666666666666666,
              "#ed7953"
             ],
             [
              0.7777777777777778,
              "#fb9f3a"
             ],
             [
              0.8888888888888888,
              "#fdca26"
             ],
             [
              1,
              "#f0f921"
             ]
            ],
            "type": "histogram2dcontour"
           }
          ],
          "mesh3d": [
           {
            "colorbar": {
             "outlinewidth": 0,
             "ticks": ""
            },
            "type": "mesh3d"
           }
          ],
          "parcoords": [
           {
            "line": {
             "colorbar": {
              "outlinewidth": 0,
              "ticks": ""
             }
            },
            "type": "parcoords"
           }
          ],
          "pie": [
           {
            "automargin": true,
            "type": "pie"
           }
          ],
          "scatter": [
           {
            "fillpattern": {
             "fillmode": "overlay",
             "size": 10,
             "solidity": 0.2
            },
            "type": "scatter"
           }
          ],
          "scatter3d": [
           {
            "line": {
             "colorbar": {
              "outlinewidth": 0,
              "ticks": ""
             }
            },
            "marker": {
             "colorbar": {
              "outlinewidth": 0,
              "ticks": ""
             }
            },
            "type": "scatter3d"
           }
          ],
          "scattercarpet": [
           {
            "marker": {
             "colorbar": {
              "outlinewidth": 0,
              "ticks": ""
             }
            },
            "type": "scattercarpet"
           }
          ],
          "scattergeo": [
           {
            "marker": {
             "colorbar": {
              "outlinewidth": 0,
              "ticks": ""
             }
            },
            "type": "scattergeo"
           }
          ],
          "scattergl": [
           {
            "marker": {
             "colorbar": {
              "outlinewidth": 0,
              "ticks": ""
             }
            },
            "type": "scattergl"
           }
          ],
          "scattermap": [
           {
            "marker": {
             "colorbar": {
              "outlinewidth": 0,
              "ticks": ""
             }
            },
            "type": "scattermap"
           }
          ],
          "scattermapbox": [
           {
            "marker": {
             "colorbar": {
              "outlinewidth": 0,
              "ticks": ""
             }
            },
            "type": "scattermapbox"
           }
          ],
          "scatterpolar": [
           {
            "marker": {
             "colorbar": {
              "outlinewidth": 0,
              "ticks": ""
             }
            },
            "type": "scatterpolar"
           }
          ],
          "scatterpolargl": [
           {
            "marker": {
             "colorbar": {
              "outlinewidth": 0,
              "ticks": ""
             }
            },
            "type": "scatterpolargl"
           }
          ],
          "scatterternary": [
           {
            "marker": {
             "colorbar": {
              "outlinewidth": 0,
              "ticks": ""
             }
            },
            "type": "scatterternary"
           }
          ],
          "surface": [
           {
            "colorbar": {
             "outlinewidth": 0,
             "ticks": ""
            },
            "colorscale": [
             [
              0,
              "#0d0887"
             ],
             [
              0.1111111111111111,
              "#46039f"
             ],
             [
              0.2222222222222222,
              "#7201a8"
             ],
             [
              0.3333333333333333,
              "#9c179e"
             ],
             [
              0.4444444444444444,
              "#bd3786"
             ],
             [
              0.5555555555555556,
              "#d8576b"
             ],
             [
              0.6666666666666666,
              "#ed7953"
             ],
             [
              0.7777777777777778,
              "#fb9f3a"
             ],
             [
              0.8888888888888888,
              "#fdca26"
             ],
             [
              1,
              "#f0f921"
             ]
            ],
            "type": "surface"
           }
          ],
          "table": [
           {
            "cells": {
             "fill": {
              "color": "#EBF0F8"
             },
             "line": {
              "color": "white"
             }
            },
            "header": {
             "fill": {
              "color": "#C8D4E3"
             },
             "line": {
              "color": "white"
             }
            },
            "type": "table"
           }
          ]
         },
         "layout": {
          "annotationdefaults": {
           "arrowcolor": "#2a3f5f",
           "arrowhead": 0,
           "arrowwidth": 1
          },
          "autotypenumbers": "strict",
          "coloraxis": {
           "colorbar": {
            "outlinewidth": 0,
            "ticks": ""
           }
          },
          "colorscale": {
           "diverging": [
            [
             0,
             "#8e0152"
            ],
            [
             0.1,
             "#c51b7d"
            ],
            [
             0.2,
             "#de77ae"
            ],
            [
             0.3,
             "#f1b6da"
            ],
            [
             0.4,
             "#fde0ef"
            ],
            [
             0.5,
             "#f7f7f7"
            ],
            [
             0.6,
             "#e6f5d0"
            ],
            [
             0.7,
             "#b8e186"
            ],
            [
             0.8,
             "#7fbc41"
            ],
            [
             0.9,
             "#4d9221"
            ],
            [
             1,
             "#276419"
            ]
           ],
           "sequential": [
            [
             0,
             "#0d0887"
            ],
            [
             0.1111111111111111,
             "#46039f"
            ],
            [
             0.2222222222222222,
             "#7201a8"
            ],
            [
             0.3333333333333333,
             "#9c179e"
            ],
            [
             0.4444444444444444,
             "#bd3786"
            ],
            [
             0.5555555555555556,
             "#d8576b"
            ],
            [
             0.6666666666666666,
             "#ed7953"
            ],
            [
             0.7777777777777778,
             "#fb9f3a"
            ],
            [
             0.8888888888888888,
             "#fdca26"
            ],
            [
             1,
             "#f0f921"
            ]
           ],
           "sequentialminus": [
            [
             0,
             "#0d0887"
            ],
            [
             0.1111111111111111,
             "#46039f"
            ],
            [
             0.2222222222222222,
             "#7201a8"
            ],
            [
             0.3333333333333333,
             "#9c179e"
            ],
            [
             0.4444444444444444,
             "#bd3786"
            ],
            [
             0.5555555555555556,
             "#d8576b"
            ],
            [
             0.6666666666666666,
             "#ed7953"
            ],
            [
             0.7777777777777778,
             "#fb9f3a"
            ],
            [
             0.8888888888888888,
             "#fdca26"
            ],
            [
             1,
             "#f0f921"
            ]
           ]
          },
          "colorway": [
           "#636efa",
           "#EF553B",
           "#00cc96",
           "#ab63fa",
           "#FFA15A",
           "#19d3f3",
           "#FF6692",
           "#B6E880",
           "#FF97FF",
           "#FECB52"
          ],
          "font": {
           "color": "#2a3f5f"
          },
          "geo": {
           "bgcolor": "white",
           "lakecolor": "white",
           "landcolor": "#E5ECF6",
           "showlakes": true,
           "showland": true,
           "subunitcolor": "white"
          },
          "hoverlabel": {
           "align": "left"
          },
          "hovermode": "closest",
          "mapbox": {
           "style": "light"
          },
          "paper_bgcolor": "white",
          "plot_bgcolor": "#E5ECF6",
          "polar": {
           "angularaxis": {
            "gridcolor": "white",
            "linecolor": "white",
            "ticks": ""
           },
           "bgcolor": "#E5ECF6",
           "radialaxis": {
            "gridcolor": "white",
            "linecolor": "white",
            "ticks": ""
           }
          },
          "scene": {
           "xaxis": {
            "backgroundcolor": "#E5ECF6",
            "gridcolor": "white",
            "gridwidth": 2,
            "linecolor": "white",
            "showbackground": true,
            "ticks": "",
            "zerolinecolor": "white"
           },
           "yaxis": {
            "backgroundcolor": "#E5ECF6",
            "gridcolor": "white",
            "gridwidth": 2,
            "linecolor": "white",
            "showbackground": true,
            "ticks": "",
            "zerolinecolor": "white"
           },
           "zaxis": {
            "backgroundcolor": "#E5ECF6",
            "gridcolor": "white",
            "gridwidth": 2,
            "linecolor": "white",
            "showbackground": true,
            "ticks": "",
            "zerolinecolor": "white"
           }
          },
          "shapedefaults": {
           "line": {
            "color": "#2a3f5f"
           }
          },
          "ternary": {
           "aaxis": {
            "gridcolor": "white",
            "linecolor": "white",
            "ticks": ""
           },
           "baxis": {
            "gridcolor": "white",
            "linecolor": "white",
            "ticks": ""
           },
           "bgcolor": "#E5ECF6",
           "caxis": {
            "gridcolor": "white",
            "linecolor": "white",
            "ticks": ""
           }
          },
          "title": {
           "x": 0.05
          },
          "xaxis": {
           "automargin": true,
           "gridcolor": "white",
           "linecolor": "white",
           "ticks": "",
           "title": {
            "standoff": 15
           },
           "zerolinecolor": "white",
           "zerolinewidth": 2
          },
          "yaxis": {
           "automargin": true,
           "gridcolor": "white",
           "linecolor": "white",
           "ticks": "",
           "title": {
            "standoff": 15
           },
           "zerolinecolor": "white",
           "zerolinewidth": 2
          }
         }
        },
        "title": {
         "text": "Top 100 Countries by Population"
        },
        "width": 1000,
        "xaxis": {
         "anchor": "y",
         "domain": [
          0,
          1
         ],
         "gridcolor": "lightgray",
         "gridwidth": 1,
         "showgrid": true,
         "title": {
          "text": "Population"
         }
        },
        "yaxis": {
         "anchor": "x",
         "domain": [
          0,
          1
         ],
         "showgrid": false,
         "tickangle": 0,
         "title": {
          "text": "Country"
         }
        }
       }
      }
     },
     "metadata": {},
     "output_type": "display_data"
    },
    {
     "data": {
      "text/html": [
       "<div>\n",
       "<style scoped>\n",
       "    .dataframe tbody tr th:only-of-type {\n",
       "        vertical-align: middle;\n",
       "    }\n",
       "\n",
       "    .dataframe tbody tr th {\n",
       "        vertical-align: top;\n",
       "    }\n",
       "\n",
       "    .dataframe thead th {\n",
       "        text-align: right;\n",
       "    }\n",
       "</style>\n",
       "<table border=\"1\" class=\"dataframe\">\n",
       "  <thead>\n",
       "    <tr style=\"text-align: right;\">\n",
       "      <th></th>\n",
       "      <th>Country Code</th>\n",
       "      <th>Country</th>\n",
       "      <th>Population</th>\n",
       "    </tr>\n",
       "  </thead>\n",
       "  <tbody>\n",
       "    <tr>\n",
       "      <th>1</th>\n",
       "      <td>IND</td>\n",
       "      <td>India</td>\n",
       "      <td>1438069596</td>\n",
       "    </tr>\n",
       "    <tr>\n",
       "      <th>2</th>\n",
       "      <td>CHN</td>\n",
       "      <td>China</td>\n",
       "      <td>1410710000</td>\n",
       "    </tr>\n",
       "    <tr>\n",
       "      <th>3</th>\n",
       "      <td>USA</td>\n",
       "      <td>United States</td>\n",
       "      <td>334914895</td>\n",
       "    </tr>\n",
       "    <tr>\n",
       "      <th>4</th>\n",
       "      <td>IDN</td>\n",
       "      <td>Indonesia</td>\n",
       "      <td>281190067</td>\n",
       "    </tr>\n",
       "    <tr>\n",
       "      <th>5</th>\n",
       "      <td>PAK</td>\n",
       "      <td>Pakistan</td>\n",
       "      <td>247504495</td>\n",
       "    </tr>\n",
       "    <tr>\n",
       "      <th>...</th>\n",
       "      <td>...</td>\n",
       "      <td>...</td>\n",
       "      <td>...</td>\n",
       "    </tr>\n",
       "    <tr>\n",
       "      <th>96</th>\n",
       "      <td>HUN</td>\n",
       "      <td>Hungary</td>\n",
       "      <td>9592186</td>\n",
       "    </tr>\n",
       "    <tr>\n",
       "      <th>97</th>\n",
       "      <td>TGO</td>\n",
       "      <td>Togo</td>\n",
       "      <td>9304337</td>\n",
       "    </tr>\n",
       "    <tr>\n",
       "      <th>98</th>\n",
       "      <td>BLR</td>\n",
       "      <td>Belarus</td>\n",
       "      <td>9178298</td>\n",
       "    </tr>\n",
       "    <tr>\n",
       "      <th>99</th>\n",
       "      <td>AUT</td>\n",
       "      <td>Austria</td>\n",
       "      <td>9131761</td>\n",
       "    </tr>\n",
       "    <tr>\n",
       "      <th>100</th>\n",
       "      <td>CHE</td>\n",
       "      <td>Switzerland</td>\n",
       "      <td>8888093</td>\n",
       "    </tr>\n",
       "  </tbody>\n",
       "</table>\n",
       "<p>100 rows × 3 columns</p>\n",
       "</div>"
      ],
      "text/plain": [
       "    Country Code        Country  Population\n",
       "1            IND          India  1438069596\n",
       "2            CHN          China  1410710000\n",
       "3            USA  United States   334914895\n",
       "4            IDN      Indonesia   281190067\n",
       "5            PAK       Pakistan   247504495\n",
       "..           ...            ...         ...\n",
       "96           HUN        Hungary     9592186\n",
       "97           TGO           Togo     9304337\n",
       "98           BLR        Belarus     9178298\n",
       "99           AUT        Austria     9131761\n",
       "100          CHE    Switzerland     8888093\n",
       "\n",
       "[100 rows x 3 columns]"
      ]
     },
     "execution_count": 6,
     "metadata": {},
     "output_type": "execute_result"
    }
   ],
   "source": [
    "top_countries_by_population(100)"
   ]
  }
 ],
 "metadata": {
  "kernelspec": {
   "display_name": "newenv",
   "language": "python",
   "name": "python3"
  },
  "language_info": {
   "codemirror_mode": {
    "name": "ipython",
    "version": 3
   },
   "file_extension": ".py",
   "mimetype": "text/x-python",
   "name": "python",
   "nbconvert_exporter": "python",
   "pygments_lexer": "ipython3",
   "version": "3.9.20"
  }
 },
 "nbformat": 4,
 "nbformat_minor": 2
}
