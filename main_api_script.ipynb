{
 "cells": [
  {
   "cell_type": "markdown",
   "metadata": {},
   "source": [
    "# Ventagium\n",
    "\n",
    "## Task: Desarrollar un pipeline en Python que deberá:\n",
    "\n",
    "1. Extraer los datos correspondientes al total de población de cada país usando la API JSON\n",
    "de Indicadores del Banco Mundial.\n",
    "\n",
    "- a. Debe recibir un parámetro para limitar la respuesta a la cantidad de países que se\n",
    "soliciten. De tal forma que se puedan solicitar, por ejemplo, los 10, 20, 30 países con la\n",
    "mayor población.\n",
    "\n",
    "- b. Almacenar los datos extraídos en un objeto DataFrame de la librería Pandas."
   ]
  },
  {
   "cell_type": "markdown",
   "metadata": {},
   "source": []
  },
  {
   "cell_type": "markdown",
   "metadata": {},
   "source": [
    "# How to structure API Call:\n",
    "#### https://datahelpdesk.worldbank.org/knowledgebase/articles/898581\n",
    "\n",
    "Responses\n",
    "Retrieving indicator data about countries is one common use of the API.\n",
    "\n",
    "For example, the following is a call for 2006 data on the GDP of Brazil: https://api.worldbank.org/v2/country/br/indicator/NY.GDP.MKTP.CD?date=2006\n",
    "\n",
    "Response Format\n",
    "By default, all requests will respond with valid XML. To receive the response in JSON format, provide format=json in any request.\n",
    "\n",
    "\n",
    "## using 'all' for all countries' data:\n",
    "\n",
    "How to use the V2 Indicators API\n",
    "Version 2 (V2) of the Indicators API has been released and replaces V1 of the API. V1 API calls will no longer be supported. To use the V2 API, you must place v2 in the call. For example: https://api.worldbank.org/v2/country/all/indicator/SP.POP.TOTL.\n"
   ]
  },
  {
   "cell_type": "code",
   "execution_count": 44,
   "metadata": {},
   "outputs": [],
   "source": [
    "pop_url = \"https://api.worldbank.org/v2//country/all/indicator/SP.POP.TOTL?date=2020:2025&format=json\"\n",
    "response = requests.get(pop_url)\n",
    "data = response.json()"
   ]
  },
  {
   "cell_type": "markdown",
   "metadata": {},
   "source": [
    "### Country ISO Codes: https://wits.worldbank.org/wits/wits/WITSHELP-es/content/codes/country_codes.htm\n",
    "\n",
    "They only have 3 upper case letters --> 'countryiso3code'"
   ]
  },
  {
   "cell_type": "markdown",
   "metadata": {},
   "source": []
  },
  {
   "cell_type": "markdown",
   "metadata": {},
   "source": [
    "# PARAR!!  NO BORRAR DE AQUI A ABAJO!"
   ]
  },
  {
   "cell_type": "code",
   "execution_count": null,
   "metadata": {},
   "outputs": [],
   "source": []
  },
  {
   "cell_type": "code",
   "execution_count": 46,
   "metadata": {},
   "outputs": [],
   "source": [
    "import wbgapi as wb\n",
    "import pandas as pd\n",
    "import pycountry\n",
    "import plotly\n",
    "import plotly.express as px\n",
    "\n",
    "def top_countries_by_population(num_countries=10):\n",
    "    # Fetch population data for all available countries for all years\n",
    "    df = wb.data.DataFrame('SP.POP.TOTL', economy='all', time='all', labels=True)\n",
    "    \n",
    "    # Reset index to make 'Country Code' a column\n",
    "    df = df.reset_index()\n",
    "    \n",
    "    # Rename 'economy' column to 'Country Code'\n",
    "    df.rename(columns={'economy': 'Country Code'}, inplace=True)\n",
    "    \n",
    "    # Remove rows that are not actual countries (e.g., World, regional groups)\n",
    "    valid_country_codes = [country.alpha_3 for country in pycountry.countries]\n",
    "    df = df[df['Country Code'].isin(valid_country_codes)]\n",
    "    \n",
    "    # Find the most recent year in the dataset dynamically\n",
    "    latest_year = str(df.columns[df.columns.str.startswith('YR')].max())\n",
    "    \n",
    "    # Keep only relevant columns: 'Country Code', 'Country' and the most recent year\n",
    "    df = df[['Country Code', 'Country', latest_year]].rename(columns={latest_year: 'Population'})\n",
    "    \n",
    "    # Convert population to integer, fill NaNs with 0, and sort by population\n",
    "    df['Population'] = df['Population'].fillna(0).astype(int)\n",
    "    df = df.sort_values(by='Population', ascending=False)\n",
    "    \n",
    "    # Select the top N countries\n",
    "    df = df.head(num_countries)\n",
    "    \n",
    "    # Reset index to start at 1 instead of 0\n",
    "    df.index = range(1, len(df) + 1)\n",
    "    \n",
    "    # Create an interactive bar chart using plotly\n",
    "    fig = px.bar(df, \n",
    "                x='Population', \n",
    "                y='Country', \n",
    "                orientation='h', \n",
    "                title=f'Top {num_countries} Countries by Population',\n",
    "                labels={'Population': 'Population', 'Country': 'Country'})\n",
    "\n",
    "    # Add the country codes to customdata for hover information\n",
    "    fig.update_traces(\n",
    "        customdata=df[['Country Code', 'Population']].values,  # Add country code and population to customdata\n",
    "        hovertemplate=\n",
    "        '<b>Country</b>: %{y}<br>' +\n",
    "        '<b>Country Code</b>: %{customdata[0]}<br>' +  # Country Code from customdata\n",
    "        '<b>Population</b>: %{customdata[1]:,}<br>'  # Population from customdata with comma formatting\n",
    "    )\n",
    "\n",
    "    # Update the layout with axis titles and grid\n",
    "    fig.update_layout(\n",
    "        xaxis_title=\"Population\",\n",
    "        yaxis_title=\"Country\",\n",
    "        plot_bgcolor='white',\n",
    "        xaxis=dict(showgrid=True, gridwidth=1, gridcolor='lightgray'),\n",
    "        yaxis=dict(\n",
    "            showgrid=False,\n",
    "            tickangle=0  # Ensure that the country names are horizontal\n",
    "        ),\n",
    "        # Increase the overall canvas size\n",
    "        width=1000,  # Increase width of the figure\n",
    "        height=1000,  # Increase height of the figure\n",
    "    )\n",
    "\n",
    "    # Show the plot\n",
    "    fig.show()\n",
    "\n",
    "    return df\n"
   ]
  },
  {
   "cell_type": "code",
   "execution_count": 48,
   "metadata": {},
   "outputs": [
    {
     "data": {
      "application/vnd.plotly.v1+json": {
       "config": {
        "plotlyServerURL": "https://plot.ly"
       },
       "data": [
        {
         "customdata": [
          [
           "IND",
           1438069596
          ],
          [
           "CHN",
           1410710000
          ],
          [
           "USA",
           334914895
          ],
          [
           "IDN",
           281190067
          ],
          [
           "PAK",
           247504495
          ],
          [
           "NGA",
           227882945
          ],
          [
           "BRA",
           211140729
          ],
          [
           "BGD",
           171466990
          ],
          [
           "RUS",
           143826130
          ],
          [
           "MEX",
           129739759
          ],
          [
           "ETH",
           128691692
          ],
          [
           "JPN",
           124516650
          ],
          [
           "PHL",
           114891199
          ],
          [
           "EGY",
           114535772
          ],
          [
           "COD",
           105789731
          ],
          [
           "VNM",
           100352192
          ],
          [
           "IRN",
           90608707
          ],
          [
           "TUR",
           85325965
          ],
          [
           "DEU",
           83280000
          ],
          [
           "THA",
           71702435
          ],
          [
           "GBR",
           68350000
          ],
          [
           "FRA",
           68287487
          ],
          [
           "TZA",
           66617606
          ],
          [
           "ZAF",
           63212384
          ],
          [
           "ITA",
           58993475
          ],
          [
           "KEN",
           55339003
          ],
          [
           "MMR",
           54133798
          ],
          [
           "COL",
           52321152
          ],
          [
           "KOR",
           51712619
          ],
          [
           "SDN",
           50042791
          ],
          [
           "UGA",
           48656601
          ],
          [
           "ESP",
           48347910
          ],
          [
           "DZA",
           46164219
          ],
          [
           "ARG",
           45538401
          ],
          [
           "IRQ",
           45074049
          ],
          [
           "AFG",
           41454761
          ],
          [
           "CAN",
           40097761
          ],
          [
           "YEM",
           39390799
          ],
          [
           "UKR",
           37732836
          ],
          [
           "MAR",
           37712505
          ],
          [
           "AGO",
           36749906
          ],
          [
           "POL",
           36687353
          ],
          [
           "UZB",
           35652307
          ],
          [
           "MYS",
           35126298
          ],
          [
           "PER",
           33845617
          ],
          [
           "GHA",
           33787914
          ],
          [
           "MOZ",
           33635160
          ],
          [
           "SAU",
           33264292
          ],
          [
           "MDG",
           31195932
          ],
          [
           "CIV",
           31165654
          ]
         ],
         "hovertemplate": "<b>Country</b>: %{y}<br><b>Country Code</b>: %{customdata[0]}<br><b>Population</b>: %{customdata[1]:,}<br>",
         "legendgroup": "",
         "marker": {
          "color": "#636efa",
          "pattern": {
           "shape": ""
          }
         },
         "name": "",
         "orientation": "h",
         "showlegend": false,
         "textposition": "auto",
         "type": "bar",
         "x": {
          "bdata": "XDO3VfC5FVRPZfYTs57CEG+ewA7BN5UNecCVDO5gOArSnJII76u7B+ytqwcq+WsHvxnZBlyt0wYjOU4GwED7BUOUZgWN+BUFgMD2BKMXRgQw8BIE//sRBAaB+ANgi8QDQyuEA/tnTAMmBDoDgFseA2sSFQOnl/sC2XDmAga74QL7aMACYdy2AoHGrwKpjHgC4ddjAk8OWQLkwT8CeXI/AlLCMAL5zS8C0wIgAhr8FwJxcQQCCpADAlg7AQKkkvsBHAPcAdaM2wE=",
          "dtype": "i4"
         },
         "xaxis": "x",
         "y": [
          "India",
          "China",
          "United States",
          "Indonesia",
          "Pakistan",
          "Nigeria",
          "Brazil",
          "Bangladesh",
          "Russian Federation",
          "Mexico",
          "Ethiopia",
          "Japan",
          "Philippines",
          "Egypt, Arab Rep.",
          "Congo, Dem. Rep.",
          "Viet Nam",
          "Iran, Islamic Rep.",
          "Turkiye",
          "Germany",
          "Thailand",
          "United Kingdom",
          "France",
          "Tanzania",
          "South Africa",
          "Italy",
          "Kenya",
          "Myanmar",
          "Colombia",
          "Korea, Rep.",
          "Sudan",
          "Uganda",
          "Spain",
          "Algeria",
          "Argentina",
          "Iraq",
          "Afghanistan",
          "Canada",
          "Yemen, Rep.",
          "Ukraine",
          "Morocco",
          "Angola",
          "Poland",
          "Uzbekistan",
          "Malaysia",
          "Peru",
          "Ghana",
          "Mozambique",
          "Saudi Arabia",
          "Madagascar",
          "Cote d'Ivoire"
         ],
         "yaxis": "y"
        }
       ],
       "layout": {
        "barmode": "relative",
        "height": 1000,
        "legend": {
         "tracegroupgap": 0
        },
        "plot_bgcolor": "white",
        "template": {
         "data": {
          "bar": [
           {
            "error_x": {
             "color": "#2a3f5f"
            },
            "error_y": {
             "color": "#2a3f5f"
            },
            "marker": {
             "line": {
              "color": "#E5ECF6",
              "width": 0.5
             },
             "pattern": {
              "fillmode": "overlay",
              "size": 10,
              "solidity": 0.2
             }
            },
            "type": "bar"
           }
          ],
          "barpolar": [
           {
            "marker": {
             "line": {
              "color": "#E5ECF6",
              "width": 0.5
             },
             "pattern": {
              "fillmode": "overlay",
              "size": 10,
              "solidity": 0.2
             }
            },
            "type": "barpolar"
           }
          ],
          "carpet": [
           {
            "aaxis": {
             "endlinecolor": "#2a3f5f",
             "gridcolor": "white",
             "linecolor": "white",
             "minorgridcolor": "white",
             "startlinecolor": "#2a3f5f"
            },
            "baxis": {
             "endlinecolor": "#2a3f5f",
             "gridcolor": "white",
             "linecolor": "white",
             "minorgridcolor": "white",
             "startlinecolor": "#2a3f5f"
            },
            "type": "carpet"
           }
          ],
          "choropleth": [
           {
            "colorbar": {
             "outlinewidth": 0,
             "ticks": ""
            },
            "type": "choropleth"
           }
          ],
          "contour": [
           {
            "colorbar": {
             "outlinewidth": 0,
             "ticks": ""
            },
            "colorscale": [
             [
              0,
              "#0d0887"
             ],
             [
              0.1111111111111111,
              "#46039f"
             ],
             [
              0.2222222222222222,
              "#7201a8"
             ],
             [
              0.3333333333333333,
              "#9c179e"
             ],
             [
              0.4444444444444444,
              "#bd3786"
             ],
             [
              0.5555555555555556,
              "#d8576b"
             ],
             [
              0.6666666666666666,
              "#ed7953"
             ],
             [
              0.7777777777777778,
              "#fb9f3a"
             ],
             [
              0.8888888888888888,
              "#fdca26"
             ],
             [
              1,
              "#f0f921"
             ]
            ],
            "type": "contour"
           }
          ],
          "contourcarpet": [
           {
            "colorbar": {
             "outlinewidth": 0,
             "ticks": ""
            },
            "type": "contourcarpet"
           }
          ],
          "heatmap": [
           {
            "colorbar": {
             "outlinewidth": 0,
             "ticks": ""
            },
            "colorscale": [
             [
              0,
              "#0d0887"
             ],
             [
              0.1111111111111111,
              "#46039f"
             ],
             [
              0.2222222222222222,
              "#7201a8"
             ],
             [
              0.3333333333333333,
              "#9c179e"
             ],
             [
              0.4444444444444444,
              "#bd3786"
             ],
             [
              0.5555555555555556,
              "#d8576b"
             ],
             [
              0.6666666666666666,
              "#ed7953"
             ],
             [
              0.7777777777777778,
              "#fb9f3a"
             ],
             [
              0.8888888888888888,
              "#fdca26"
             ],
             [
              1,
              "#f0f921"
             ]
            ],
            "type": "heatmap"
           }
          ],
          "histogram": [
           {
            "marker": {
             "pattern": {
              "fillmode": "overlay",
              "size": 10,
              "solidity": 0.2
             }
            },
            "type": "histogram"
           }
          ],
          "histogram2d": [
           {
            "colorbar": {
             "outlinewidth": 0,
             "ticks": ""
            },
            "colorscale": [
             [
              0,
              "#0d0887"
             ],
             [
              0.1111111111111111,
              "#46039f"
             ],
             [
              0.2222222222222222,
              "#7201a8"
             ],
             [
              0.3333333333333333,
              "#9c179e"
             ],
             [
              0.4444444444444444,
              "#bd3786"
             ],
             [
              0.5555555555555556,
              "#d8576b"
             ],
             [
              0.6666666666666666,
              "#ed7953"
             ],
             [
              0.7777777777777778,
              "#fb9f3a"
             ],
             [
              0.8888888888888888,
              "#fdca26"
             ],
             [
              1,
              "#f0f921"
             ]
            ],
            "type": "histogram2d"
           }
          ],
          "histogram2dcontour": [
           {
            "colorbar": {
             "outlinewidth": 0,
             "ticks": ""
            },
            "colorscale": [
             [
              0,
              "#0d0887"
             ],
             [
              0.1111111111111111,
              "#46039f"
             ],
             [
              0.2222222222222222,
              "#7201a8"
             ],
             [
              0.3333333333333333,
              "#9c179e"
             ],
             [
              0.4444444444444444,
              "#bd3786"
             ],
             [
              0.5555555555555556,
              "#d8576b"
             ],
             [
              0.6666666666666666,
              "#ed7953"
             ],
             [
              0.7777777777777778,
              "#fb9f3a"
             ],
             [
              0.8888888888888888,
              "#fdca26"
             ],
             [
              1,
              "#f0f921"
             ]
            ],
            "type": "histogram2dcontour"
           }
          ],
          "mesh3d": [
           {
            "colorbar": {
             "outlinewidth": 0,
             "ticks": ""
            },
            "type": "mesh3d"
           }
          ],
          "parcoords": [
           {
            "line": {
             "colorbar": {
              "outlinewidth": 0,
              "ticks": ""
             }
            },
            "type": "parcoords"
           }
          ],
          "pie": [
           {
            "automargin": true,
            "type": "pie"
           }
          ],
          "scatter": [
           {
            "fillpattern": {
             "fillmode": "overlay",
             "size": 10,
             "solidity": 0.2
            },
            "type": "scatter"
           }
          ],
          "scatter3d": [
           {
            "line": {
             "colorbar": {
              "outlinewidth": 0,
              "ticks": ""
             }
            },
            "marker": {
             "colorbar": {
              "outlinewidth": 0,
              "ticks": ""
             }
            },
            "type": "scatter3d"
           }
          ],
          "scattercarpet": [
           {
            "marker": {
             "colorbar": {
              "outlinewidth": 0,
              "ticks": ""
             }
            },
            "type": "scattercarpet"
           }
          ],
          "scattergeo": [
           {
            "marker": {
             "colorbar": {
              "outlinewidth": 0,
              "ticks": ""
             }
            },
            "type": "scattergeo"
           }
          ],
          "scattergl": [
           {
            "marker": {
             "colorbar": {
              "outlinewidth": 0,
              "ticks": ""
             }
            },
            "type": "scattergl"
           }
          ],
          "scattermap": [
           {
            "marker": {
             "colorbar": {
              "outlinewidth": 0,
              "ticks": ""
             }
            },
            "type": "scattermap"
           }
          ],
          "scattermapbox": [
           {
            "marker": {
             "colorbar": {
              "outlinewidth": 0,
              "ticks": ""
             }
            },
            "type": "scattermapbox"
           }
          ],
          "scatterpolar": [
           {
            "marker": {
             "colorbar": {
              "outlinewidth": 0,
              "ticks": ""
             }
            },
            "type": "scatterpolar"
           }
          ],
          "scatterpolargl": [
           {
            "marker": {
             "colorbar": {
              "outlinewidth": 0,
              "ticks": ""
             }
            },
            "type": "scatterpolargl"
           }
          ],
          "scatterternary": [
           {
            "marker": {
             "colorbar": {
              "outlinewidth": 0,
              "ticks": ""
             }
            },
            "type": "scatterternary"
           }
          ],
          "surface": [
           {
            "colorbar": {
             "outlinewidth": 0,
             "ticks": ""
            },
            "colorscale": [
             [
              0,
              "#0d0887"
             ],
             [
              0.1111111111111111,
              "#46039f"
             ],
             [
              0.2222222222222222,
              "#7201a8"
             ],
             [
              0.3333333333333333,
              "#9c179e"
             ],
             [
              0.4444444444444444,
              "#bd3786"
             ],
             [
              0.5555555555555556,
              "#d8576b"
             ],
             [
              0.6666666666666666,
              "#ed7953"
             ],
             [
              0.7777777777777778,
              "#fb9f3a"
             ],
             [
              0.8888888888888888,
              "#fdca26"
             ],
             [
              1,
              "#f0f921"
             ]
            ],
            "type": "surface"
           }
          ],
          "table": [
           {
            "cells": {
             "fill": {
              "color": "#EBF0F8"
             },
             "line": {
              "color": "white"
             }
            },
            "header": {
             "fill": {
              "color": "#C8D4E3"
             },
             "line": {
              "color": "white"
             }
            },
            "type": "table"
           }
          ]
         },
         "layout": {
          "annotationdefaults": {
           "arrowcolor": "#2a3f5f",
           "arrowhead": 0,
           "arrowwidth": 1
          },
          "autotypenumbers": "strict",
          "coloraxis": {
           "colorbar": {
            "outlinewidth": 0,
            "ticks": ""
           }
          },
          "colorscale": {
           "diverging": [
            [
             0,
             "#8e0152"
            ],
            [
             0.1,
             "#c51b7d"
            ],
            [
             0.2,
             "#de77ae"
            ],
            [
             0.3,
             "#f1b6da"
            ],
            [
             0.4,
             "#fde0ef"
            ],
            [
             0.5,
             "#f7f7f7"
            ],
            [
             0.6,
             "#e6f5d0"
            ],
            [
             0.7,
             "#b8e186"
            ],
            [
             0.8,
             "#7fbc41"
            ],
            [
             0.9,
             "#4d9221"
            ],
            [
             1,
             "#276419"
            ]
           ],
           "sequential": [
            [
             0,
             "#0d0887"
            ],
            [
             0.1111111111111111,
             "#46039f"
            ],
            [
             0.2222222222222222,
             "#7201a8"
            ],
            [
             0.3333333333333333,
             "#9c179e"
            ],
            [
             0.4444444444444444,
             "#bd3786"
            ],
            [
             0.5555555555555556,
             "#d8576b"
            ],
            [
             0.6666666666666666,
             "#ed7953"
            ],
            [
             0.7777777777777778,
             "#fb9f3a"
            ],
            [
             0.8888888888888888,
             "#fdca26"
            ],
            [
             1,
             "#f0f921"
            ]
           ],
           "sequentialminus": [
            [
             0,
             "#0d0887"
            ],
            [
             0.1111111111111111,
             "#46039f"
            ],
            [
             0.2222222222222222,
             "#7201a8"
            ],
            [
             0.3333333333333333,
             "#9c179e"
            ],
            [
             0.4444444444444444,
             "#bd3786"
            ],
            [
             0.5555555555555556,
             "#d8576b"
            ],
            [
             0.6666666666666666,
             "#ed7953"
            ],
            [
             0.7777777777777778,
             "#fb9f3a"
            ],
            [
             0.8888888888888888,
             "#fdca26"
            ],
            [
             1,
             "#f0f921"
            ]
           ]
          },
          "colorway": [
           "#636efa",
           "#EF553B",
           "#00cc96",
           "#ab63fa",
           "#FFA15A",
           "#19d3f3",
           "#FF6692",
           "#B6E880",
           "#FF97FF",
           "#FECB52"
          ],
          "font": {
           "color": "#2a3f5f"
          },
          "geo": {
           "bgcolor": "white",
           "lakecolor": "white",
           "landcolor": "#E5ECF6",
           "showlakes": true,
           "showland": true,
           "subunitcolor": "white"
          },
          "hoverlabel": {
           "align": "left"
          },
          "hovermode": "closest",
          "mapbox": {
           "style": "light"
          },
          "paper_bgcolor": "white",
          "plot_bgcolor": "#E5ECF6",
          "polar": {
           "angularaxis": {
            "gridcolor": "white",
            "linecolor": "white",
            "ticks": ""
           },
           "bgcolor": "#E5ECF6",
           "radialaxis": {
            "gridcolor": "white",
            "linecolor": "white",
            "ticks": ""
           }
          },
          "scene": {
           "xaxis": {
            "backgroundcolor": "#E5ECF6",
            "gridcolor": "white",
            "gridwidth": 2,
            "linecolor": "white",
            "showbackground": true,
            "ticks": "",
            "zerolinecolor": "white"
           },
           "yaxis": {
            "backgroundcolor": "#E5ECF6",
            "gridcolor": "white",
            "gridwidth": 2,
            "linecolor": "white",
            "showbackground": true,
            "ticks": "",
            "zerolinecolor": "white"
           },
           "zaxis": {
            "backgroundcolor": "#E5ECF6",
            "gridcolor": "white",
            "gridwidth": 2,
            "linecolor": "white",
            "showbackground": true,
            "ticks": "",
            "zerolinecolor": "white"
           }
          },
          "shapedefaults": {
           "line": {
            "color": "#2a3f5f"
           }
          },
          "ternary": {
           "aaxis": {
            "gridcolor": "white",
            "linecolor": "white",
            "ticks": ""
           },
           "baxis": {
            "gridcolor": "white",
            "linecolor": "white",
            "ticks": ""
           },
           "bgcolor": "#E5ECF6",
           "caxis": {
            "gridcolor": "white",
            "linecolor": "white",
            "ticks": ""
           }
          },
          "title": {
           "x": 0.05
          },
          "xaxis": {
           "automargin": true,
           "gridcolor": "white",
           "linecolor": "white",
           "ticks": "",
           "title": {
            "standoff": 15
           },
           "zerolinecolor": "white",
           "zerolinewidth": 2
          },
          "yaxis": {
           "automargin": true,
           "gridcolor": "white",
           "linecolor": "white",
           "ticks": "",
           "title": {
            "standoff": 15
           },
           "zerolinecolor": "white",
           "zerolinewidth": 2
          }
         }
        },
        "title": {
         "text": "Top 50 Countries by Population"
        },
        "width": 1000,
        "xaxis": {
         "anchor": "y",
         "domain": [
          0,
          1
         ],
         "gridcolor": "lightgray",
         "gridwidth": 1,
         "showgrid": true,
         "title": {
          "text": "Population"
         }
        },
        "yaxis": {
         "anchor": "x",
         "domain": [
          0,
          1
         ],
         "showgrid": false,
         "tickangle": 0,
         "title": {
          "text": "Country"
         }
        }
       }
      }
     },
     "metadata": {},
     "output_type": "display_data"
    },
    {
     "data": {
      "text/html": [
       "<div>\n",
       "<style scoped>\n",
       "    .dataframe tbody tr th:only-of-type {\n",
       "        vertical-align: middle;\n",
       "    }\n",
       "\n",
       "    .dataframe tbody tr th {\n",
       "        vertical-align: top;\n",
       "    }\n",
       "\n",
       "    .dataframe thead th {\n",
       "        text-align: right;\n",
       "    }\n",
       "</style>\n",
       "<table border=\"1\" class=\"dataframe\">\n",
       "  <thead>\n",
       "    <tr style=\"text-align: right;\">\n",
       "      <th></th>\n",
       "      <th>Country Code</th>\n",
       "      <th>Country</th>\n",
       "      <th>Population</th>\n",
       "    </tr>\n",
       "  </thead>\n",
       "  <tbody>\n",
       "    <tr>\n",
       "      <th>1</th>\n",
       "      <td>IND</td>\n",
       "      <td>India</td>\n",
       "      <td>1438069596</td>\n",
       "    </tr>\n",
       "    <tr>\n",
       "      <th>2</th>\n",
       "      <td>CHN</td>\n",
       "      <td>China</td>\n",
       "      <td>1410710000</td>\n",
       "    </tr>\n",
       "    <tr>\n",
       "      <th>3</th>\n",
       "      <td>USA</td>\n",
       "      <td>United States</td>\n",
       "      <td>334914895</td>\n",
       "    </tr>\n",
       "    <tr>\n",
       "      <th>4</th>\n",
       "      <td>IDN</td>\n",
       "      <td>Indonesia</td>\n",
       "      <td>281190067</td>\n",
       "    </tr>\n",
       "    <tr>\n",
       "      <th>5</th>\n",
       "      <td>PAK</td>\n",
       "      <td>Pakistan</td>\n",
       "      <td>247504495</td>\n",
       "    </tr>\n",
       "    <tr>\n",
       "      <th>6</th>\n",
       "      <td>NGA</td>\n",
       "      <td>Nigeria</td>\n",
       "      <td>227882945</td>\n",
       "    </tr>\n",
       "    <tr>\n",
       "      <th>7</th>\n",
       "      <td>BRA</td>\n",
       "      <td>Brazil</td>\n",
       "      <td>211140729</td>\n",
       "    </tr>\n",
       "    <tr>\n",
       "      <th>8</th>\n",
       "      <td>BGD</td>\n",
       "      <td>Bangladesh</td>\n",
       "      <td>171466990</td>\n",
       "    </tr>\n",
       "    <tr>\n",
       "      <th>9</th>\n",
       "      <td>RUS</td>\n",
       "      <td>Russian Federation</td>\n",
       "      <td>143826130</td>\n",
       "    </tr>\n",
       "    <tr>\n",
       "      <th>10</th>\n",
       "      <td>MEX</td>\n",
       "      <td>Mexico</td>\n",
       "      <td>129739759</td>\n",
       "    </tr>\n",
       "    <tr>\n",
       "      <th>11</th>\n",
       "      <td>ETH</td>\n",
       "      <td>Ethiopia</td>\n",
       "      <td>128691692</td>\n",
       "    </tr>\n",
       "    <tr>\n",
       "      <th>12</th>\n",
       "      <td>JPN</td>\n",
       "      <td>Japan</td>\n",
       "      <td>124516650</td>\n",
       "    </tr>\n",
       "    <tr>\n",
       "      <th>13</th>\n",
       "      <td>PHL</td>\n",
       "      <td>Philippines</td>\n",
       "      <td>114891199</td>\n",
       "    </tr>\n",
       "    <tr>\n",
       "      <th>14</th>\n",
       "      <td>EGY</td>\n",
       "      <td>Egypt, Arab Rep.</td>\n",
       "      <td>114535772</td>\n",
       "    </tr>\n",
       "    <tr>\n",
       "      <th>15</th>\n",
       "      <td>COD</td>\n",
       "      <td>Congo, Dem. Rep.</td>\n",
       "      <td>105789731</td>\n",
       "    </tr>\n",
       "    <tr>\n",
       "      <th>16</th>\n",
       "      <td>VNM</td>\n",
       "      <td>Viet Nam</td>\n",
       "      <td>100352192</td>\n",
       "    </tr>\n",
       "    <tr>\n",
       "      <th>17</th>\n",
       "      <td>IRN</td>\n",
       "      <td>Iran, Islamic Rep.</td>\n",
       "      <td>90608707</td>\n",
       "    </tr>\n",
       "    <tr>\n",
       "      <th>18</th>\n",
       "      <td>TUR</td>\n",
       "      <td>Turkiye</td>\n",
       "      <td>85325965</td>\n",
       "    </tr>\n",
       "    <tr>\n",
       "      <th>19</th>\n",
       "      <td>DEU</td>\n",
       "      <td>Germany</td>\n",
       "      <td>83280000</td>\n",
       "    </tr>\n",
       "    <tr>\n",
       "      <th>20</th>\n",
       "      <td>THA</td>\n",
       "      <td>Thailand</td>\n",
       "      <td>71702435</td>\n",
       "    </tr>\n",
       "    <tr>\n",
       "      <th>21</th>\n",
       "      <td>GBR</td>\n",
       "      <td>United Kingdom</td>\n",
       "      <td>68350000</td>\n",
       "    </tr>\n",
       "    <tr>\n",
       "      <th>22</th>\n",
       "      <td>FRA</td>\n",
       "      <td>France</td>\n",
       "      <td>68287487</td>\n",
       "    </tr>\n",
       "    <tr>\n",
       "      <th>23</th>\n",
       "      <td>TZA</td>\n",
       "      <td>Tanzania</td>\n",
       "      <td>66617606</td>\n",
       "    </tr>\n",
       "    <tr>\n",
       "      <th>24</th>\n",
       "      <td>ZAF</td>\n",
       "      <td>South Africa</td>\n",
       "      <td>63212384</td>\n",
       "    </tr>\n",
       "    <tr>\n",
       "      <th>25</th>\n",
       "      <td>ITA</td>\n",
       "      <td>Italy</td>\n",
       "      <td>58993475</td>\n",
       "    </tr>\n",
       "    <tr>\n",
       "      <th>26</th>\n",
       "      <td>KEN</td>\n",
       "      <td>Kenya</td>\n",
       "      <td>55339003</td>\n",
       "    </tr>\n",
       "    <tr>\n",
       "      <th>27</th>\n",
       "      <td>MMR</td>\n",
       "      <td>Myanmar</td>\n",
       "      <td>54133798</td>\n",
       "    </tr>\n",
       "    <tr>\n",
       "      <th>28</th>\n",
       "      <td>COL</td>\n",
       "      <td>Colombia</td>\n",
       "      <td>52321152</td>\n",
       "    </tr>\n",
       "    <tr>\n",
       "      <th>29</th>\n",
       "      <td>KOR</td>\n",
       "      <td>Korea, Rep.</td>\n",
       "      <td>51712619</td>\n",
       "    </tr>\n",
       "    <tr>\n",
       "      <th>30</th>\n",
       "      <td>SDN</td>\n",
       "      <td>Sudan</td>\n",
       "      <td>50042791</td>\n",
       "    </tr>\n",
       "    <tr>\n",
       "      <th>31</th>\n",
       "      <td>UGA</td>\n",
       "      <td>Uganda</td>\n",
       "      <td>48656601</td>\n",
       "    </tr>\n",
       "    <tr>\n",
       "      <th>32</th>\n",
       "      <td>ESP</td>\n",
       "      <td>Spain</td>\n",
       "      <td>48347910</td>\n",
       "    </tr>\n",
       "    <tr>\n",
       "      <th>33</th>\n",
       "      <td>DZA</td>\n",
       "      <td>Algeria</td>\n",
       "      <td>46164219</td>\n",
       "    </tr>\n",
       "    <tr>\n",
       "      <th>34</th>\n",
       "      <td>ARG</td>\n",
       "      <td>Argentina</td>\n",
       "      <td>45538401</td>\n",
       "    </tr>\n",
       "    <tr>\n",
       "      <th>35</th>\n",
       "      <td>IRQ</td>\n",
       "      <td>Iraq</td>\n",
       "      <td>45074049</td>\n",
       "    </tr>\n",
       "    <tr>\n",
       "      <th>36</th>\n",
       "      <td>AFG</td>\n",
       "      <td>Afghanistan</td>\n",
       "      <td>41454761</td>\n",
       "    </tr>\n",
       "    <tr>\n",
       "      <th>37</th>\n",
       "      <td>CAN</td>\n",
       "      <td>Canada</td>\n",
       "      <td>40097761</td>\n",
       "    </tr>\n",
       "    <tr>\n",
       "      <th>38</th>\n",
       "      <td>YEM</td>\n",
       "      <td>Yemen, Rep.</td>\n",
       "      <td>39390799</td>\n",
       "    </tr>\n",
       "    <tr>\n",
       "      <th>39</th>\n",
       "      <td>UKR</td>\n",
       "      <td>Ukraine</td>\n",
       "      <td>37732836</td>\n",
       "    </tr>\n",
       "    <tr>\n",
       "      <th>40</th>\n",
       "      <td>MAR</td>\n",
       "      <td>Morocco</td>\n",
       "      <td>37712505</td>\n",
       "    </tr>\n",
       "    <tr>\n",
       "      <th>41</th>\n",
       "      <td>AGO</td>\n",
       "      <td>Angola</td>\n",
       "      <td>36749906</td>\n",
       "    </tr>\n",
       "    <tr>\n",
       "      <th>42</th>\n",
       "      <td>POL</td>\n",
       "      <td>Poland</td>\n",
       "      <td>36687353</td>\n",
       "    </tr>\n",
       "    <tr>\n",
       "      <th>43</th>\n",
       "      <td>UZB</td>\n",
       "      <td>Uzbekistan</td>\n",
       "      <td>35652307</td>\n",
       "    </tr>\n",
       "    <tr>\n",
       "      <th>44</th>\n",
       "      <td>MYS</td>\n",
       "      <td>Malaysia</td>\n",
       "      <td>35126298</td>\n",
       "    </tr>\n",
       "    <tr>\n",
       "      <th>45</th>\n",
       "      <td>PER</td>\n",
       "      <td>Peru</td>\n",
       "      <td>33845617</td>\n",
       "    </tr>\n",
       "    <tr>\n",
       "      <th>46</th>\n",
       "      <td>GHA</td>\n",
       "      <td>Ghana</td>\n",
       "      <td>33787914</td>\n",
       "    </tr>\n",
       "    <tr>\n",
       "      <th>47</th>\n",
       "      <td>MOZ</td>\n",
       "      <td>Mozambique</td>\n",
       "      <td>33635160</td>\n",
       "    </tr>\n",
       "    <tr>\n",
       "      <th>48</th>\n",
       "      <td>SAU</td>\n",
       "      <td>Saudi Arabia</td>\n",
       "      <td>33264292</td>\n",
       "    </tr>\n",
       "    <tr>\n",
       "      <th>49</th>\n",
       "      <td>MDG</td>\n",
       "      <td>Madagascar</td>\n",
       "      <td>31195932</td>\n",
       "    </tr>\n",
       "    <tr>\n",
       "      <th>50</th>\n",
       "      <td>CIV</td>\n",
       "      <td>Cote d'Ivoire</td>\n",
       "      <td>31165654</td>\n",
       "    </tr>\n",
       "  </tbody>\n",
       "</table>\n",
       "</div>"
      ],
      "text/plain": [
       "   Country Code             Country  Population\n",
       "1           IND               India  1438069596\n",
       "2           CHN               China  1410710000\n",
       "3           USA       United States   334914895\n",
       "4           IDN           Indonesia   281190067\n",
       "5           PAK            Pakistan   247504495\n",
       "6           NGA             Nigeria   227882945\n",
       "7           BRA              Brazil   211140729\n",
       "8           BGD          Bangladesh   171466990\n",
       "9           RUS  Russian Federation   143826130\n",
       "10          MEX              Mexico   129739759\n",
       "11          ETH            Ethiopia   128691692\n",
       "12          JPN               Japan   124516650\n",
       "13          PHL         Philippines   114891199\n",
       "14          EGY    Egypt, Arab Rep.   114535772\n",
       "15          COD    Congo, Dem. Rep.   105789731\n",
       "16          VNM            Viet Nam   100352192\n",
       "17          IRN  Iran, Islamic Rep.    90608707\n",
       "18          TUR             Turkiye    85325965\n",
       "19          DEU             Germany    83280000\n",
       "20          THA            Thailand    71702435\n",
       "21          GBR      United Kingdom    68350000\n",
       "22          FRA              France    68287487\n",
       "23          TZA            Tanzania    66617606\n",
       "24          ZAF        South Africa    63212384\n",
       "25          ITA               Italy    58993475\n",
       "26          KEN               Kenya    55339003\n",
       "27          MMR             Myanmar    54133798\n",
       "28          COL            Colombia    52321152\n",
       "29          KOR         Korea, Rep.    51712619\n",
       "30          SDN               Sudan    50042791\n",
       "31          UGA              Uganda    48656601\n",
       "32          ESP               Spain    48347910\n",
       "33          DZA             Algeria    46164219\n",
       "34          ARG           Argentina    45538401\n",
       "35          IRQ                Iraq    45074049\n",
       "36          AFG         Afghanistan    41454761\n",
       "37          CAN              Canada    40097761\n",
       "38          YEM         Yemen, Rep.    39390799\n",
       "39          UKR             Ukraine    37732836\n",
       "40          MAR             Morocco    37712505\n",
       "41          AGO              Angola    36749906\n",
       "42          POL              Poland    36687353\n",
       "43          UZB          Uzbekistan    35652307\n",
       "44          MYS            Malaysia    35126298\n",
       "45          PER                Peru    33845617\n",
       "46          GHA               Ghana    33787914\n",
       "47          MOZ          Mozambique    33635160\n",
       "48          SAU        Saudi Arabia    33264292\n",
       "49          MDG          Madagascar    31195932\n",
       "50          CIV       Cote d'Ivoire    31165654"
      ]
     },
     "execution_count": 48,
     "metadata": {},
     "output_type": "execute_result"
    }
   ],
   "source": [
    "top_countries_by_population(50)"
   ]
  },
  {
   "cell_type": "code",
   "execution_count": null,
   "metadata": {},
   "outputs": [],
   "source": []
  },
  {
   "cell_type": "code",
   "execution_count": null,
   "metadata": {},
   "outputs": [],
   "source": []
  },
  {
   "cell_type": "code",
   "execution_count": null,
   "metadata": {},
   "outputs": [],
   "source": []
  }
 ],
 "metadata": {
  "kernelspec": {
   "display_name": "newenv",
   "language": "python",
   "name": "python3"
  },
  "language_info": {
   "codemirror_mode": {
    "name": "ipython",
    "version": 3
   },
   "file_extension": ".py",
   "mimetype": "text/x-python",
   "name": "python",
   "nbconvert_exporter": "python",
   "pygments_lexer": "ipython3",
   "version": "3.9.20"
  }
 },
 "nbformat": 4,
 "nbformat_minor": 2
}
